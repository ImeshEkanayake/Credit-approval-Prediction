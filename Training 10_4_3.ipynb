{
 "cells": [
  {
   "cell_type": "code",
   "execution_count": 1,
   "metadata": {},
   "outputs": [],
   "source": [
    "import numpy as np\n",
    "import pandas as pd\n",
    "import tensorflow as tf\n",
    "import csv\n",
    "import matplotlib.pyplot as plt\n",
    "from scipy import signal\n",
    "import seaborn as sns\n",
    "import sklearn\n",
    "import impyute\n",
    "\n",
    "import os\n",
    "import numpy as np\n",
    "import matplotlib.pyplot as plt\n",
    "\n",
    "from sklearn.preprocessing import OneHotEncoder\n",
    "from numpy.random import seed\n",
    "\n",
    "from sklearn.model_selection import RandomizedSearchCV, GridSearchCV\n",
    "import xgboost"
   ]
  },
  {
   "cell_type": "code",
   "execution_count": 2,
   "metadata": {},
   "outputs": [],
   "source": [
    "df=pd.read_csv('PreProcessed_Train_Data.csv')\n",
    "Tdf=pd.read_csv('PreProcessed_Test_Data.csv')"
   ]
  },
  {
   "cell_type": "code",
   "execution_count": 3,
   "metadata": {},
   "outputs": [],
   "source": [
    "Features=['A2', 'A5', 'A7', 'A8', 'A10', 'A11', 'A12', 'A13', 'A14', 'A1_a',\n",
    "       'A3_l', 'A3_y', 'A4_gg', 'A4_p', 'A6_aa', 'A6_c', 'A6_cc', 'A6_e',\n",
    "       'A6_ff', 'A6_i', 'A6_j', 'A6_k', 'A6_m', 'A6_q', 'A6_r', 'A6_w', 'A6_x',\n",
    "       'A9_bb', 'A9_dd', 'A9_ff', 'A9_h', 'A9_j', 'A9_n', 'A9_o', 'A9_z',\n",
    "       'A15_g', 'A15_p', 'A15_s']\n",
    "\n",
    "X=df.loc[:,Features]\n",
    "Y=df.loc[:,['A16']]"
   ]
  },
  {
   "cell_type": "code",
   "execution_count": 4,
   "metadata": {},
   "outputs": [],
   "source": [
    "## Hyper Parameter Optimization\n",
    "\n",
    "params={\n",
    " \"learning_rate\"    : [ 0.05, 0.10, 0.15, 0.20, 0.25, 0.30 ] ,\n",
    " \"max_depth\"        : [ 3, 4, 5, 6, 8,9, 10, 12,13,14, 15],\n",
    " \"min_child_weight\" : [ 1, 3, 5, 7,8,9,10],\n",
    " \"gamma\"            : [ 0.0, 0.1, 0.2 , 0.3, 0.4,0.5,0.6 ],\n",
    " \"colsample_bytree\" : [ 0.3, 0.35,0.4,0.45,0.5 , 0.7 ],\n",
    " \"random_state\"     : [i for i in range (0,25,1)]\n",
    "    \n",
    "}"
   ]
  },
  {
   "cell_type": "code",
   "execution_count": 5,
   "metadata": {},
   "outputs": [
    {
     "name": "stderr",
     "output_type": "stream",
     "text": [
      "C:\\Users\\Imesh Ekanayake\\.conda\\envs\\Tensorflow\\lib\\site-packages\\sklearn\\preprocessing\\_label.py:235: DataConversionWarning: A column-vector y was passed when a 1d array was expected. Please change the shape of y to (n_samples, ), for example using ravel().\n",
      "  y = column_or_1d(y, warn=True)\n",
      "C:\\Users\\Imesh Ekanayake\\.conda\\envs\\Tensorflow\\lib\\site-packages\\sklearn\\preprocessing\\_label.py:268: DataConversionWarning: A column-vector y was passed when a 1d array was expected. Please change the shape of y to (n_samples, ), for example using ravel().\n",
      "  y = column_or_1d(y, warn=True)\n"
     ]
    },
    {
     "data": {
      "text/plain": [
       "RandomizedSearchCV(cv=10, error_score=nan,\n",
       "                   estimator=XGBClassifier(base_score=0.5, booster='gbtree',\n",
       "                                           colsample_bylevel=1,\n",
       "                                           colsample_bynode=1,\n",
       "                                           colsample_bytree=1, gamma=0,\n",
       "                                           learning_rate=0.1, max_delta_step=0,\n",
       "                                           max_depth=3, min_child_weight=1,\n",
       "                                           missing=None, n_estimators=100,\n",
       "                                           n_jobs=1, nthread=None,\n",
       "                                           objective='binary:logistic',\n",
       "                                           random_state=0, reg_alpha=0,\n",
       "                                           reg_lambda=1, s...\n",
       "                                                             0.45, 0.5, 0.7],\n",
       "                                        'gamma': [0.0, 0.1, 0.2, 0.3, 0.4, 0.5,\n",
       "                                                  0.6],\n",
       "                                        'learning_rate': [0.05, 0.1, 0.15, 0.2,\n",
       "                                                          0.25, 0.3],\n",
       "                                        'max_depth': [3, 4, 5, 6, 8, 9, 10, 12,\n",
       "                                                      13, 14, 15],\n",
       "                                        'min_child_weight': [1, 3, 5, 7, 8, 9,\n",
       "                                                             10],\n",
       "                                        'random_state': [0, 1, 2, 3, 4, 5, 6, 7,\n",
       "                                                         8, 9, 10, 11, 12, 13,\n",
       "                                                         14, 15, 16, 17, 18, 19,\n",
       "                                                         20, 21, 22, 23, 24]},\n",
       "                   pre_dispatch='2*n_jobs', random_state=None, refit=True,\n",
       "                   return_train_score=False, scoring='roc_auc', verbose=0)"
      ]
     },
     "execution_count": 5,
     "metadata": {},
     "output_type": "execute_result"
    }
   ],
   "source": [
    "classifier=xgboost.XGBClassifier()\n",
    "random_search=RandomizedSearchCV(classifier,param_distributions=params,n_iter=125,scoring='roc_auc',n_jobs=-1,cv=10)\n",
    "random_search.fit(X,Y)"
   ]
  },
  {
   "cell_type": "code",
   "execution_count": 6,
   "metadata": {
    "scrolled": true
   },
   "outputs": [
    {
     "data": {
      "text/plain": [
       "XGBClassifier(base_score=0.5, booster='gbtree', colsample_bylevel=1,\n",
       "              colsample_bynode=1, colsample_bytree=0.3, gamma=0.5,\n",
       "              learning_rate=0.15, max_delta_step=0, max_depth=3,\n",
       "              min_child_weight=1, missing=None, n_estimators=100, n_jobs=1,\n",
       "              nthread=None, objective='binary:logistic', random_state=19,\n",
       "              reg_alpha=0, reg_lambda=1, scale_pos_weight=1, seed=None,\n",
       "              silent=None, subsample=1, verbosity=1)"
      ]
     },
     "execution_count": 6,
     "metadata": {},
     "output_type": "execute_result"
    }
   ],
   "source": [
    "random_search.best_estimator_"
   ]
  },
  {
   "cell_type": "code",
   "execution_count": 9,
   "metadata": {},
   "outputs": [
    {
     "name": "stderr",
     "output_type": "stream",
     "text": [
      "C:\\Users\\Imesh Ekanayake\\.conda\\envs\\Tensorflow\\lib\\site-packages\\sklearn\\preprocessing\\_label.py:235: DataConversionWarning: A column-vector y was passed when a 1d array was expected. Please change the shape of y to (n_samples, ), for example using ravel().\n",
      "  y = column_or_1d(y, warn=True)\n",
      "C:\\Users\\Imesh Ekanayake\\.conda\\envs\\Tensorflow\\lib\\site-packages\\sklearn\\preprocessing\\_label.py:268: DataConversionWarning: A column-vector y was passed when a 1d array was expected. Please change the shape of y to (n_samples, ), for example using ravel().\n",
      "  y = column_or_1d(y, warn=True)\n"
     ]
    },
    {
     "name": "stdout",
     "output_type": "stream",
     "text": [
      "0.8574999999999999\n"
     ]
    },
    {
     "data": {
      "text/plain": [
       "array([0.71428571, 0.66071429, 0.98181818, 0.96363636, 0.90909091,\n",
       "       0.89090909, 0.92727273, 0.85454545, 0.94545455, 0.72727273])"
      ]
     },
     "execution_count": 9,
     "metadata": {},
     "output_type": "execute_result"
    }
   ],
   "source": [
    "classifier=xgboost.XGBClassifier(base_score=0.5, booster='gbtree', colsample_bylevel=1,\n",
    "              colsample_bynode=1, colsample_bytree=0.3, gamma=0.5,\n",
    "              learning_rate=0.15, max_delta_step=0, max_depth=3,\n",
    "              min_child_weight=1, missing=None, n_estimators=100, n_jobs=1,\n",
    "              nthread=None, objective='binary:logistic', random_state=19,\n",
    "              reg_alpha=0, reg_lambda=1, scale_pos_weight=1, seed=None,\n",
    "              silent=None, subsample=1, verbosity=1)\n",
    "\n",
    "from sklearn.model_selection import cross_val_score\n",
    "score=cross_val_score(classifier,X,Y,cv=10)\n",
    "\n",
    "print(score.mean())\n",
    "score"
   ]
  },
  {
   "cell_type": "code",
   "execution_count": 10,
   "metadata": {},
   "outputs": [],
   "source": [
    "Model_F=classifier\n",
    "\n",
    "\n",
    "TX=Tdf.loc[:,Features]\n",
    "Model_F.fit(X,Y)\n",
    "\n",
    "res=list(Model_F.predict(Tdf))\n",
    "p=[]\n",
    "new_att=[\"Id\",\"Category\"]\n",
    "count=0\n",
    "for i in res:\n",
    "    count+=1\n",
    "    if i==1:p.append([count,\"Success\"])\n",
    "    else:p.append([count,\"Failure\"])\n",
    "\n",
    "p=np.array(p)\n",
    "Submit= pd.DataFrame(data=np.array(p),columns=new_att)\n",
    "\n",
    "\n",
    "Submit.to_csv(r'Z:\\ML\\Project - 6th sem\\Submit_10_4_4.csv', index = False)"
   ]
  }
 ],
 "metadata": {
  "kernelspec": {
   "display_name": "Python 3",
   "language": "python",
   "name": "python3"
  },
  "language_info": {
   "codemirror_mode": {
    "name": "ipython",
    "version": 3
   },
   "file_extension": ".py",
   "mimetype": "text/x-python",
   "name": "python",
   "nbconvert_exporter": "python",
   "pygments_lexer": "ipython3",
   "version": "3.7.6"
  }
 },
 "nbformat": 4,
 "nbformat_minor": 4
}
