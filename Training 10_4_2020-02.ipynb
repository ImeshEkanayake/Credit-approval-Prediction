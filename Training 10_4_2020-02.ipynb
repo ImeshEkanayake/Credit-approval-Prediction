{
 "cells": [
  {
   "cell_type": "code",
   "execution_count": 8,
   "metadata": {},
   "outputs": [],
   "source": [
    "import numpy as np\n",
    "import pandas as pd\n",
    "import tensorflow as tf\n",
    "import csv\n",
    "import matplotlib.pyplot as plt\n",
    "from scipy import signal\n",
    "import seaborn as sns\n",
    "import sklearn\n",
    "import impyute\n",
    "\n",
    "import os\n",
    "import numpy as np\n",
    "import matplotlib.pyplot as plt\n",
    "\n",
    "from sklearn.preprocessing import OneHotEncoder\n",
    "from numpy.random import seed\n",
    "\n",
    "from sklearn.model_selection import RandomizedSearchCV, GridSearchCV\n",
    "import xgboost"
   ]
  },
  {
   "cell_type": "code",
   "execution_count": 2,
   "metadata": {},
   "outputs": [],
   "source": [
    "df=pd.read_csv('PreProcessed_Train_Data.csv')\n",
    "Tdf=pd.read_csv('PreProcessed_Test_Data.csv')"
   ]
  },
  {
   "cell_type": "code",
   "execution_count": 5,
   "metadata": {},
   "outputs": [],
   "source": [
    "Features=['A2', 'A5', 'A7', 'A8', 'A10', 'A11', 'A12', 'A13', 'A14', 'A1_a',\n",
    "       'A3_l', 'A3_y', 'A4_gg', 'A4_p', 'A6_aa', 'A6_c', 'A6_cc', 'A6_e',\n",
    "       'A6_ff', 'A6_i', 'A6_j', 'A6_k', 'A6_m', 'A6_q', 'A6_r', 'A6_w', 'A6_x',\n",
    "       'A9_bb', 'A9_dd', 'A9_ff', 'A9_h', 'A9_j', 'A9_n', 'A9_o', 'A9_z',\n",
    "       'A15_g', 'A15_p', 'A15_s']\n",
    "\n",
    "X=df.loc[:,Features]\n",
    "Y=df.loc[:,['A16']]"
   ]
  },
  {
   "cell_type": "code",
   "execution_count": 31,
   "metadata": {},
   "outputs": [],
   "source": [
    "Model_F=classifier\n",
    "\n",
    "\n",
    "TX=Tdf.loc[:,Features]\n",
    "Model_F.fit(X,Y)\n",
    "\n",
    "res=list(Model_F.predict(Tdf))\n",
    "p=[]\n",
    "new_att=[\"Id\",\"Category\"]\n",
    "count=0\n",
    "for i in res:\n",
    "    count+=1\n",
    "    if i==1:p.append([count,\"Success\"])\n",
    "    else:p.append([count,\"Failure\"])\n",
    "\n",
    "p=np.array(p)\n",
    "Submit= pd.DataFrame(data=np.array(p),columns=new_att)\n",
    "\n",
    "\n",
    "Submit.to_csv(r'Z:\\ML\\Project - 6th sem\\Submit_10_4_3.csv', index = False)"
   ]
  }
 ],
 "metadata": {
  "kernelspec": {
   "display_name": "Python 3",
   "language": "python",
   "name": "python3"
  },
  "language_info": {
   "codemirror_mode": {
    "name": "ipython",
    "version": 3
   },
   "file_extension": ".py",
   "mimetype": "text/x-python",
   "name": "python",
   "nbconvert_exporter": "python",
   "pygments_lexer": "ipython3",
   "version": "3.7.6"
  }
 },
 "nbformat": 4,
 "nbformat_minor": 4
}
